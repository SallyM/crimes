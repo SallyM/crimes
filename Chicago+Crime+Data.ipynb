{
 "cells": [
  {
   "cell_type": "markdown",
   "metadata": {
    "collapsed": true,
    "deletable": true,
    "editable": true
   },
   "source": [
    "## Hypothesis:\n",
    "Violent crime could be affected by the weather conditions (e.g. more homicides when more people are outside in nice weather)\n",
    "\n",
    "## Problem:\n",
    "Predict the number of violent crimes in an urban area based on weather conditions\n",
    "\n",
    "## Data:\n",
    "* Chicago crime data from beginning of 2016 to present\n",
    "* Historic weather data for Chicago for every day/hour from Crime dataset"
   ]
  },
  {
   "cell_type": "code",
   "execution_count": 1,
   "metadata": {
    "collapsed": true,
    "deletable": true,
    "editable": true
   },
   "outputs": [],
   "source": [
    "import json  #handling API requests\n",
    "import csv  #used when downloading Csvs\n",
    "import pandas as pd  #main python module for data cleaning and analysis\n",
    "import numpy as np  #for use with sklearn\n",
    "import datetime  #working with timestamps from API\n",
    "from datetime import timedelta, date  #more granular imports\n",
    "import time  # used to time functions\n",
    "import requests  # Main Python module for making HTTP Requests\n",
    "import os  #used when Python needs to work with the OS/machine it's being processed on \n",
    "from pandas.io.json import json_normalize\n",
    "import datetime"
   ]
  },
  {
   "cell_type": "code",
   "execution_count": 69,
   "metadata": {
    "collapsed": false,
    "deletable": true,
    "editable": true,
    "scrolled": true
   },
   "outputs": [
    {
     "name": "stdout",
     "output_type": "stream",
     "text": [
      "<Response [201]>\n"
     ]
    }
   ],
   "source": [
    "put_file(credentials_2,'joined_data.csv')"
   ]
  },
  {
   "cell_type": "code",
   "execution_count": null,
   "metadata": {
    "collapsed": true,
    "deletable": true,
    "editable": true
   },
   "outputs": [],
   "source": []
  },
  {
   "cell_type": "code",
   "execution_count": 2,
   "metadata": {
    "collapsed": false,
    "deletable": true,
    "editable": true,
    "scrolled": false
   },
   "outputs": [
    {
     "data": {
      "text/html": [
       "<div>\n",
       "<table border=\"1\" class=\"dataframe\">\n",
       "  <thead>\n",
       "    <tr style=\"text-align: right;\">\n",
       "      <th></th>\n",
       "      <th>ID</th>\n",
       "      <th>Case Number</th>\n",
       "      <th>Date</th>\n",
       "      <th>Block</th>\n",
       "      <th>IUCR</th>\n",
       "      <th>Primary Type</th>\n",
       "      <th>Description</th>\n",
       "      <th>Location Description</th>\n",
       "      <th>Arrest</th>\n",
       "      <th>Domestic</th>\n",
       "      <th>...</th>\n",
       "      <th>Ward</th>\n",
       "      <th>Community Area</th>\n",
       "      <th>FBI Code</th>\n",
       "      <th>X Coordinate</th>\n",
       "      <th>Y Coordinate</th>\n",
       "      <th>Year</th>\n",
       "      <th>Updated On</th>\n",
       "      <th>Latitude</th>\n",
       "      <th>Longitude</th>\n",
       "      <th>Location</th>\n",
       "    </tr>\n",
       "  </thead>\n",
       "  <tbody>\n",
       "    <tr>\n",
       "      <th>0</th>\n",
       "      <td>10508593</td>\n",
       "      <td>HZ250410</td>\n",
       "      <td>05/03/2016 09:00:00 PM</td>\n",
       "      <td>042XX W MADISON ST</td>\n",
       "      <td>1811</td>\n",
       "      <td>NARCOTICS</td>\n",
       "      <td>POSS: CANNABIS 30GMS OR LESS</td>\n",
       "      <td>SIDEWALK</td>\n",
       "      <td>True</td>\n",
       "      <td>False</td>\n",
       "      <td>...</td>\n",
       "      <td>28</td>\n",
       "      <td>26</td>\n",
       "      <td>18</td>\n",
       "      <td>1148220.0</td>\n",
       "      <td>1899677.0</td>\n",
       "      <td>2016</td>\n",
       "      <td>05/10/2016 03:56:50 PM</td>\n",
       "      <td>41.880658</td>\n",
       "      <td>-87.731212</td>\n",
       "      <td>(41.880658176, -87.731212135)</td>\n",
       "    </tr>\n",
       "    <tr>\n",
       "      <th>1</th>\n",
       "      <td>10508594</td>\n",
       "      <td>HZ250385</td>\n",
       "      <td>05/03/2016 09:35:00 PM</td>\n",
       "      <td>065XX S KEDVALE AVE</td>\n",
       "      <td>0810</td>\n",
       "      <td>THEFT</td>\n",
       "      <td>OVER $500</td>\n",
       "      <td>APARTMENT</td>\n",
       "      <td>False</td>\n",
       "      <td>True</td>\n",
       "      <td>...</td>\n",
       "      <td>13</td>\n",
       "      <td>65</td>\n",
       "      <td>06</td>\n",
       "      <td>1149830.0</td>\n",
       "      <td>1860872.0</td>\n",
       "      <td>2016</td>\n",
       "      <td>05/10/2016 03:56:50 PM</td>\n",
       "      <td>41.774141</td>\n",
       "      <td>-87.726307</td>\n",
       "      <td>(41.77414081, -87.726307093)</td>\n",
       "    </tr>\n",
       "    <tr>\n",
       "      <th>2</th>\n",
       "      <td>10508595</td>\n",
       "      <td>HZ250362</td>\n",
       "      <td>05/03/2016 02:45:00 PM</td>\n",
       "      <td>045XX S DAMEN AVE</td>\n",
       "      <td>0560</td>\n",
       "      <td>ASSAULT</td>\n",
       "      <td>SIMPLE</td>\n",
       "      <td>STREET</td>\n",
       "      <td>False</td>\n",
       "      <td>True</td>\n",
       "      <td>...</td>\n",
       "      <td>12</td>\n",
       "      <td>61</td>\n",
       "      <td>08A</td>\n",
       "      <td>1163662.0</td>\n",
       "      <td>1874660.0</td>\n",
       "      <td>2016</td>\n",
       "      <td>05/10/2016 03:56:50 PM</td>\n",
       "      <td>41.811698</td>\n",
       "      <td>-87.675214</td>\n",
       "      <td>(41.811697721, -87.675214316)</td>\n",
       "    </tr>\n",
       "    <tr>\n",
       "      <th>3</th>\n",
       "      <td>10508597</td>\n",
       "      <td>HZ250202</td>\n",
       "      <td>05/03/2016 06:42:00 PM</td>\n",
       "      <td>063XX S CLAREMONT AVE</td>\n",
       "      <td>0486</td>\n",
       "      <td>BATTERY</td>\n",
       "      <td>DOMESTIC BATTERY SIMPLE</td>\n",
       "      <td>SIDEWALK</td>\n",
       "      <td>False</td>\n",
       "      <td>True</td>\n",
       "      <td>...</td>\n",
       "      <td>15</td>\n",
       "      <td>66</td>\n",
       "      <td>08B</td>\n",
       "      <td>1161829.0</td>\n",
       "      <td>1862607.0</td>\n",
       "      <td>2016</td>\n",
       "      <td>05/10/2016 03:56:50 PM</td>\n",
       "      <td>41.778661</td>\n",
       "      <td>-87.682273</td>\n",
       "      <td>(41.778661058, -87.68227253)</td>\n",
       "    </tr>\n",
       "    <tr>\n",
       "      <th>4</th>\n",
       "      <td>10508598</td>\n",
       "      <td>HZ250298</td>\n",
       "      <td>05/03/2016 03:00:00 PM</td>\n",
       "      <td>070XX S INDIANA AVE</td>\n",
       "      <td>0320</td>\n",
       "      <td>ROBBERY</td>\n",
       "      <td>STRONGARM - NO WEAPON</td>\n",
       "      <td>SIDEWALK</td>\n",
       "      <td>False</td>\n",
       "      <td>False</td>\n",
       "      <td>...</td>\n",
       "      <td>6</td>\n",
       "      <td>69</td>\n",
       "      <td>03</td>\n",
       "      <td>1178808.0</td>\n",
       "      <td>1858478.0</td>\n",
       "      <td>2016</td>\n",
       "      <td>05/10/2016 03:56:50 PM</td>\n",
       "      <td>41.766961</td>\n",
       "      <td>-87.620152</td>\n",
       "      <td>(41.766961034, -87.620152116)</td>\n",
       "    </tr>\n",
       "  </tbody>\n",
       "</table>\n",
       "<p>5 rows × 22 columns</p>\n",
       "</div>"
      ],
      "text/plain": [
       "         ID Case Number                    Date                  Block  IUCR  \\\n",
       "0  10508593    HZ250410  05/03/2016 09:00:00 PM     042XX W MADISON ST  1811   \n",
       "1  10508594    HZ250385  05/03/2016 09:35:00 PM    065XX S KEDVALE AVE  0810   \n",
       "2  10508595    HZ250362  05/03/2016 02:45:00 PM      045XX S DAMEN AVE  0560   \n",
       "3  10508597    HZ250202  05/03/2016 06:42:00 PM  063XX S CLAREMONT AVE  0486   \n",
       "4  10508598    HZ250298  05/03/2016 03:00:00 PM    070XX S INDIANA AVE  0320   \n",
       "\n",
       "  Primary Type                   Description Location Description Arrest  \\\n",
       "0    NARCOTICS  POSS: CANNABIS 30GMS OR LESS             SIDEWALK   True   \n",
       "1        THEFT                     OVER $500            APARTMENT  False   \n",
       "2      ASSAULT                        SIMPLE               STREET  False   \n",
       "3      BATTERY       DOMESTIC BATTERY SIMPLE             SIDEWALK  False   \n",
       "4      ROBBERY         STRONGARM - NO WEAPON             SIDEWALK  False   \n",
       "\n",
       "  Domestic              ...                Ward  Community Area  FBI Code  \\\n",
       "0    False              ...                  28              26        18   \n",
       "1     True              ...                  13              65        06   \n",
       "2     True              ...                  12              61       08A   \n",
       "3     True              ...                  15              66       08B   \n",
       "4    False              ...                   6              69        03   \n",
       "\n",
       "   X Coordinate Y Coordinate  Year              Updated On   Latitude  \\\n",
       "0     1148220.0    1899677.0  2016  05/10/2016 03:56:50 PM  41.880658   \n",
       "1     1149830.0    1860872.0  2016  05/10/2016 03:56:50 PM  41.774141   \n",
       "2     1163662.0    1874660.0  2016  05/10/2016 03:56:50 PM  41.811698   \n",
       "3     1161829.0    1862607.0  2016  05/10/2016 03:56:50 PM  41.778661   \n",
       "4     1178808.0    1858478.0  2016  05/10/2016 03:56:50 PM  41.766961   \n",
       "\n",
       "   Longitude                       Location  \n",
       "0 -87.731212  (41.880658176, -87.731212135)  \n",
       "1 -87.726307   (41.77414081, -87.726307093)  \n",
       "2 -87.675214  (41.811697721, -87.675214316)  \n",
       "3 -87.682273   (41.778661058, -87.68227253)  \n",
       "4 -87.620152  (41.766961034, -87.620152116)  \n",
       "\n",
       "[5 rows x 22 columns]"
      ]
     },
     "execution_count": 2,
     "metadata": {},
     "output_type": "execute_result"
    }
   ],
   "source": [
    "from io import StringIO\n",
    "import requests\n",
    "import json\n",
    "import pandas as pd\n",
    "\n",
    "# @hidden_cell\n",
    "# This function accesses a file in your Object Storage. The definition contains your credentials.\n",
    "# You might want to remove those credentials before you share your notebook.\n",
    "def get_object_storage_file_with_credentials_f2807a6a3891460882043342cc4b184b(container, filename):\n",
    "    \"\"\"This functions returns a StringIO object containing\n",
    "    the file content from Bluemix Object Storage.\"\"\"\n",
    "\n",
    "    url1 = ''.join(['https://identity.open.softlayer.com', '/v3/auth/tokens'])\n",
    "    data = {'auth': {'identity': {'methods': ['password'],\n",
    "            'password': {'user': {'name': 'member_5a1b8103fd33ca58816f013a4ab0a5bc51ec39e8','domain': {'id': '6620e3eb4b434453b2702fe8b96f7a2e'},\n",
    "            'password': 'Dz54IeQKe7r.E!as'}}}}}\n",
    "    headers1 = {'Content-Type': 'application/json'}\n",
    "    resp1 = requests.post(url=url1, data=json.dumps(data), headers=headers1)\n",
    "    resp1_body = resp1.json()\n",
    "    for e1 in resp1_body['token']['catalog']:\n",
    "        if(e1['type']=='object-store'):\n",
    "            for e2 in e1['endpoints']:\n",
    "                        if(e2['interface']=='public'and e2['region']=='dallas'):\n",
    "                            url2 = ''.join([e2['url'],'/', container, '/', filename])\n",
    "    s_subject_token = resp1.headers['x-subject-token']\n",
    "    headers2 = {'X-Auth-Token': s_subject_token, 'accept': 'application/json'}\n",
    "    resp2 = requests.get(url=url2, headers=headers2)\n",
    "    return StringIO(resp2.text)\n",
    "\n",
    "chicago = pd.read_csv(get_object_storage_file_with_credentials_f2807a6a3891460882043342cc4b184b('ChicagoCrimeData', 'Crimes_-_2016_to_present.csv'))\n",
    "chicago.head()\n"
   ]
  },
  {
   "cell_type": "code",
   "execution_count": 4,
   "metadata": {
    "collapsed": false,
    "deletable": true,
    "editable": true
   },
   "outputs": [],
   "source": [
    "include_values = ['ASSAULT'\n",
    ",'BATTERY'\n",
    ",'ROBBERY'\n",
    ",'SEX OFFENSE'\n",
    ",'HOMICIDE'\n",
    ",'CRIM SEXUAL ASSAULT'\n",
    ",'KIDNAPPING'\n",
    ",'ARSON'\n",
    ",'HUMAN TRAFFICKING']"
   ]
  },
  {
   "cell_type": "code",
   "execution_count": 5,
   "metadata": {
    "collapsed": true,
    "deletable": true,
    "editable": true
   },
   "outputs": [],
   "source": [
    "chicago.rename(columns=lambda x: x.replace(\" \", '_'), inplace=True)"
   ]
  },
  {
   "cell_type": "code",
   "execution_count": 6,
   "metadata": {
    "collapsed": false,
    "deletable": true,
    "editable": true
   },
   "outputs": [],
   "source": [
    "chicago.rename(columns=lambda x: x.lower(), inplace=True)"
   ]
  },
  {
   "cell_type": "code",
   "execution_count": 7,
   "metadata": {
    "collapsed": false,
    "deletable": true,
    "editable": true
   },
   "outputs": [],
   "source": [
    "chicago['time'] = chicago.date.apply(lambda x: x[12:])"
   ]
  },
  {
   "cell_type": "code",
   "execution_count": 8,
   "metadata": {
    "collapsed": false,
    "deletable": true,
    "editable": true
   },
   "outputs": [],
   "source": [
    "chicago.date = pd.to_datetime(chicago.date)"
   ]
  },
  {
   "cell_type": "code",
   "execution_count": 9,
   "metadata": {
    "collapsed": false,
    "deletable": true,
    "editable": true
   },
   "outputs": [],
   "source": [
    "chicago['hour'] = chicago.date.apply(lambda x: x.hour)"
   ]
  },
  {
   "cell_type": "code",
   "execution_count": 10,
   "metadata": {
    "collapsed": true,
    "deletable": true,
    "editable": true
   },
   "outputs": [],
   "source": [
    "chicago['time'], chicago.date = chicago.date.apply(lambda x: x.time()), chicago.date.apply(lambda x: x.date())"
   ]
  },
  {
   "cell_type": "code",
   "execution_count": null,
   "metadata": {
    "collapsed": true,
    "deletable": true,
    "editable": true
   },
   "outputs": [],
   "source": []
  },
  {
   "cell_type": "code",
   "execution_count": 11,
   "metadata": {
    "collapsed": false,
    "deletable": true,
    "editable": true
   },
   "outputs": [],
   "source": [
    "def getDates(start_date, end_date, delta = 30):\n",
    "    '''\n",
    "    Returns a list of date intervals of delta number of days, that encompasses the entire duration between start_date and end_date\n",
    "    start_date: starting date in format YYYYMMDD\n",
    "    end_date: end date in format YYYYMMDD\n",
    "    delta: set as number of days for the interval; the interval between start_date and end_date; default = 30\n",
    "    '''\n",
    "    from datetime import timedelta, date\n",
    "    delta = delta -1\n",
    "    #Convert dates to date format\n",
    "    s = datetime.date(int(str(start_date)[:4]),int(str(start_date)[4:6]),int(str(start_date)[6:]))\n",
    "    e = datetime.date(int(str(end_date)[:4]),int(str(end_date)[4:6]),int(str(end_date)[6:]))\n",
    "\n",
    "    #Set delta\n",
    "    if (int(delta) > 30 or int(delta) < 1):\n",
    "        raise ValueError('Error: delta out of range. 1 <= delta <= 30')\n",
    "    else:\n",
    "        delta = timedelta(days=int(delta))\n",
    "\n",
    "    days= []\n",
    "    day_from = s\n",
    "    while (day_from) < e:\n",
    "        day_to = day_from + delta\n",
    "        days.append((day_from,day_to))\n",
    "        print('...for range %s to %s ...' % (day_from.strftime(\"%Y%m%d\"), day_to.strftime(\"%Y%m%d\")))\n",
    "        day_from += delta\n",
    "    return days"
   ]
  },
  {
   "cell_type": "code",
   "execution_count": 12,
   "metadata": {
    "collapsed": false,
    "deletable": true,
    "editable": true
   },
   "outputs": [
    {
     "name": "stdout",
     "output_type": "stream",
     "text": [
      "...for range 20160101 to 20160130 ...\n",
      "...for range 20160130 to 20160228 ...\n",
      "...for range 20160228 to 20160328 ...\n",
      "...for range 20160328 to 20160426 ...\n",
      "...for range 20160426 to 20160525 ...\n",
      "...for range 20160525 to 20160623 ...\n",
      "...for range 20160623 to 20160722 ...\n",
      "...for range 20160722 to 20160820 ...\n",
      "...for range 20160820 to 20160918 ...\n",
      "...for range 20160918 to 20161017 ...\n",
      "...for range 20161017 to 20161115 ...\n",
      "...for range 20161115 to 20161214 ...\n",
      "...for range 20161214 to 20170112 ...\n",
      "...for range 20170112 to 20170210 ...\n",
      "...for range 20170210 to 20170311 ...\n",
      "...for range 20170311 to 20170409 ...\n"
     ]
    }
   ],
   "source": [
    "dates = getDates(20160101, 20170317)"
   ]
  },
  {
   "cell_type": "code",
   "execution_count": 13,
   "metadata": {
    "collapsed": false,
    "deletable": true,
    "editable": true,
    "scrolled": false
   },
   "outputs": [],
   "source": [
    "chicago_mod = chicago[chicago['primary_type'].isin(include_values)].reset_index(drop=True)"
   ]
  },
  {
   "cell_type": "code",
   "execution_count": 14,
   "metadata": {
    "collapsed": false,
    "deletable": true,
    "editable": true
   },
   "outputs": [],
   "source": [
    "include_columns = ['date', 'hour', 'primary_type','district']"
   ]
  },
  {
   "cell_type": "code",
   "execution_count": 15,
   "metadata": {
    "collapsed": false,
    "deletable": true,
    "editable": true
   },
   "outputs": [],
   "source": [
    "chicago_final = chicago_mod.filter(include_columns)"
   ]
  },
  {
   "cell_type": "code",
   "execution_count": 16,
   "metadata": {
    "collapsed": false,
    "deletable": true,
    "editable": true
   },
   "outputs": [],
   "source": [
    "gb = chicago_final.sort_values(by=['date'])"
   ]
  },
  {
   "cell_type": "code",
   "execution_count": 19,
   "metadata": {
    "collapsed": false,
    "deletable": true,
    "editable": true
   },
   "outputs": [],
   "source": [
    "lat = 41.811698\n",
    "lon = -87.675214\n",
    "units  = 'm'\n",
    "startDate = dates[0][0].strftime('%Y%m%d')\n",
    "endDate = dates[0][1].strftime('%Y%m%d')"
   ]
  },
  {
   "cell_type": "code",
   "execution_count": 20,
   "metadata": {
    "collapsed": false,
    "deletable": true,
    "editable": true,
    "scrolled": true
   },
   "outputs": [],
   "source": [
    "url = \"http://api.weather.com/v1/geocode/\" + str(lat) + \"/\" + str(lon)+ \\\n",
    "    \"/observations/historical.json?apiKey=\" + my_apikey + \\\n",
    "    \"&units=\" + units + \\\n",
    "    \"&startDate=\"+str(startDate) + \\\n",
    "    \"&endDate=\"+str(endDate)"
   ]
  },
  {
   "cell_type": "code",
   "execution_count": 21,
   "metadata": {
    "collapsed": true,
    "deletable": true,
    "editable": true
   },
   "outputs": [],
   "source": [
    "r = requests.get(url)"
   ]
  },
  {
   "cell_type": "code",
   "execution_count": 22,
   "metadata": {
    "collapsed": false,
    "deletable": true,
    "editable": true
   },
   "outputs": [
    {
     "data": {
      "text/plain": [
       "<Response [200]>"
      ]
     },
     "execution_count": 22,
     "metadata": {},
     "output_type": "execute_result"
    }
   ],
   "source": [
    "r"
   ]
  },
  {
   "cell_type": "code",
   "execution_count": null,
   "metadata": {
    "collapsed": true,
    "deletable": true,
    "editable": true
   },
   "outputs": [],
   "source": []
  },
  {
   "cell_type": "code",
   "execution_count": 23,
   "metadata": {
    "collapsed": false,
    "deletable": true,
    "editable": true
   },
   "outputs": [],
   "source": [
    "#listFrames = []\n",
    "weather = pd.DataFrame()\n",
    "for i in dates:\n",
    "    startDate = i[0].strftime('%Y%m%d')\n",
    "    endDate = i[1].strftime('%Y%m%d')\n",
    "    #print(startDate,endDate)\n",
    "    url = \"http://api.weather.com/v1/geocode/\" + str(lat) + \"/\" + str(lon)+ \\\n",
    "        \"/observations/historical.json?apiKey=\" + my_apikey + \\\n",
    "        \"&units=\" + units + \\\n",
    "        \"&startDate=\"+str(startDate) + \\\n",
    "        \"&endDate=\"+str(endDate)\n",
    "    r = requests.get(url).json()\n",
    "    wide_format = json_normalize(r['observations'])\n",
    "    #listFrames.append(wide_format)\n",
    "    weather = pd.concat((weather, wide_format), axis = 0)\n",
    "    time.sleep(7)"
   ]
  },
  {
   "cell_type": "code",
   "execution_count": 24,
   "metadata": {
    "collapsed": false,
    "deletable": true,
    "editable": true,
    "scrolled": true
   },
   "outputs": [
    {
     "data": {
      "text/html": [
       "<div>\n",
       "<table border=\"1\" class=\"dataframe\">\n",
       "  <thead>\n",
       "    <tr style=\"text-align: right;\">\n",
       "      <th></th>\n",
       "      <th>blunt_phrase</th>\n",
       "      <th>class</th>\n",
       "      <th>clds</th>\n",
       "      <th>day_ind</th>\n",
       "      <th>dewPt</th>\n",
       "      <th>expire_time_gmt</th>\n",
       "      <th>feels_like</th>\n",
       "      <th>gust</th>\n",
       "      <th>heat_index</th>\n",
       "      <th>icon_extd</th>\n",
       "      <th>...</th>\n",
       "      <th>uv_index</th>\n",
       "      <th>valid_time_gmt</th>\n",
       "      <th>vis</th>\n",
       "      <th>water_temp</th>\n",
       "      <th>wc</th>\n",
       "      <th>wdir</th>\n",
       "      <th>wdir_cardinal</th>\n",
       "      <th>wspd</th>\n",
       "      <th>wx_icon</th>\n",
       "      <th>wx_phrase</th>\n",
       "    </tr>\n",
       "  </thead>\n",
       "  <tbody>\n",
       "    <tr>\n",
       "      <th>0</th>\n",
       "      <td>None</td>\n",
       "      <td>observation</td>\n",
       "      <td>BKN</td>\n",
       "      <td>N</td>\n",
       "      <td>-9</td>\n",
       "      <td>1451638380</td>\n",
       "      <td>-11.0</td>\n",
       "      <td>NaN</td>\n",
       "      <td>-4</td>\n",
       "      <td>2700</td>\n",
       "      <td>...</td>\n",
       "      <td>0</td>\n",
       "      <td>1451631180</td>\n",
       "      <td>14.0</td>\n",
       "      <td>None</td>\n",
       "      <td>-11.0</td>\n",
       "      <td>250.0</td>\n",
       "      <td>WSW</td>\n",
       "      <td>22.0</td>\n",
       "      <td>27</td>\n",
       "      <td>Mostly Cloudy</td>\n",
       "    </tr>\n",
       "    <tr>\n",
       "      <th>1</th>\n",
       "      <td>None</td>\n",
       "      <td>observation</td>\n",
       "      <td>SCT</td>\n",
       "      <td>N</td>\n",
       "      <td>-11</td>\n",
       "      <td>1451639460</td>\n",
       "      <td>-12.0</td>\n",
       "      <td>46.0</td>\n",
       "      <td>-4</td>\n",
       "      <td>2900</td>\n",
       "      <td>...</td>\n",
       "      <td>0</td>\n",
       "      <td>1451632260</td>\n",
       "      <td>14.0</td>\n",
       "      <td>None</td>\n",
       "      <td>-12.0</td>\n",
       "      <td>260.0</td>\n",
       "      <td>W</td>\n",
       "      <td>30.0</td>\n",
       "      <td>29</td>\n",
       "      <td>Partly Cloudy</td>\n",
       "    </tr>\n",
       "    <tr>\n",
       "      <th>2</th>\n",
       "      <td>None</td>\n",
       "      <td>observation</td>\n",
       "      <td>FEW</td>\n",
       "      <td>N</td>\n",
       "      <td>-11</td>\n",
       "      <td>1451641980</td>\n",
       "      <td>-13.0</td>\n",
       "      <td>NaN</td>\n",
       "      <td>-5</td>\n",
       "      <td>3300</td>\n",
       "      <td>...</td>\n",
       "      <td>0</td>\n",
       "      <td>1451634780</td>\n",
       "      <td>14.0</td>\n",
       "      <td>None</td>\n",
       "      <td>-13.0</td>\n",
       "      <td>250.0</td>\n",
       "      <td>WSW</td>\n",
       "      <td>30.0</td>\n",
       "      <td>33</td>\n",
       "      <td>Fair</td>\n",
       "    </tr>\n",
       "    <tr>\n",
       "      <th>3</th>\n",
       "      <td>None</td>\n",
       "      <td>observation</td>\n",
       "      <td>FEW</td>\n",
       "      <td>N</td>\n",
       "      <td>-11</td>\n",
       "      <td>1451645580</td>\n",
       "      <td>-14.0</td>\n",
       "      <td>NaN</td>\n",
       "      <td>-6</td>\n",
       "      <td>3300</td>\n",
       "      <td>...</td>\n",
       "      <td>0</td>\n",
       "      <td>1451638380</td>\n",
       "      <td>14.0</td>\n",
       "      <td>None</td>\n",
       "      <td>-14.0</td>\n",
       "      <td>260.0</td>\n",
       "      <td>W</td>\n",
       "      <td>30.0</td>\n",
       "      <td>33</td>\n",
       "      <td>Fair</td>\n",
       "    </tr>\n",
       "    <tr>\n",
       "      <th>4</th>\n",
       "      <td>None</td>\n",
       "      <td>observation</td>\n",
       "      <td>SCT</td>\n",
       "      <td>N</td>\n",
       "      <td>-12</td>\n",
       "      <td>1451649180</td>\n",
       "      <td>-13.0</td>\n",
       "      <td>NaN</td>\n",
       "      <td>-6</td>\n",
       "      <td>2900</td>\n",
       "      <td>...</td>\n",
       "      <td>0</td>\n",
       "      <td>1451641980</td>\n",
       "      <td>14.0</td>\n",
       "      <td>None</td>\n",
       "      <td>-13.0</td>\n",
       "      <td>260.0</td>\n",
       "      <td>W</td>\n",
       "      <td>20.0</td>\n",
       "      <td>29</td>\n",
       "      <td>Partly Cloudy</td>\n",
       "    </tr>\n",
       "  </tbody>\n",
       "</table>\n",
       "<p>5 rows × 45 columns</p>\n",
       "</div>"
      ],
      "text/plain": [
       "  blunt_phrase        class clds day_ind  dewPt  expire_time_gmt  feels_like  \\\n",
       "0         None  observation  BKN       N     -9       1451638380       -11.0   \n",
       "1         None  observation  SCT       N    -11       1451639460       -12.0   \n",
       "2         None  observation  FEW       N    -11       1451641980       -13.0   \n",
       "3         None  observation  FEW       N    -11       1451645580       -14.0   \n",
       "4         None  observation  SCT       N    -12       1451649180       -13.0   \n",
       "\n",
       "   gust  heat_index  icon_extd      ...       uv_index  valid_time_gmt   vis  \\\n",
       "0   NaN          -4       2700      ...              0      1451631180  14.0   \n",
       "1  46.0          -4       2900      ...              0      1451632260  14.0   \n",
       "2   NaN          -5       3300      ...              0      1451634780  14.0   \n",
       "3   NaN          -6       3300      ...              0      1451638380  14.0   \n",
       "4   NaN          -6       2900      ...              0      1451641980  14.0   \n",
       "\n",
       "  water_temp    wc   wdir  wdir_cardinal  wspd wx_icon      wx_phrase  \n",
       "0       None -11.0  250.0            WSW  22.0      27  Mostly Cloudy  \n",
       "1       None -12.0  260.0              W  30.0      29  Partly Cloudy  \n",
       "2       None -13.0  250.0            WSW  30.0      33           Fair  \n",
       "3       None -14.0  260.0              W  30.0      33           Fair  \n",
       "4       None -13.0  260.0              W  20.0      29  Partly Cloudy  \n",
       "\n",
       "[5 rows x 45 columns]"
      ]
     },
     "execution_count": 24,
     "metadata": {},
     "output_type": "execute_result"
    }
   ],
   "source": [
    "weather.head()"
   ]
  },
  {
   "cell_type": "code",
   "execution_count": 25,
   "metadata": {
    "collapsed": false,
    "deletable": true,
    "editable": true
   },
   "outputs": [],
   "source": [
    "weather['obs_time'] = weather.valid_time_gmt.apply(lambda x: datetime.datetime.fromtimestamp(x) - datetime.timedelta(hours = 6))"
   ]
  },
  {
   "cell_type": "code",
   "execution_count": 26,
   "metadata": {
    "collapsed": false,
    "deletable": true,
    "editable": true
   },
   "outputs": [],
   "source": [
    "weather['obs_date'] , weather['obs_hour']= weather.obs_time.apply(lambda x: x.date()), weather.obs_time.apply(lambda x: x.hour)"
   ]
  },
  {
   "cell_type": "code",
   "execution_count": 28,
   "metadata": {
    "collapsed": false,
    "deletable": true,
    "editable": true,
    "scrolled": true
   },
   "outputs": [],
   "source": [
    "grouped = chicago_final.groupby(['date', 'hour', 'district']).count()"
   ]
  },
  {
   "cell_type": "code",
   "execution_count": 29,
   "metadata": {
    "collapsed": false,
    "deletable": true,
    "editable": true
   },
   "outputs": [],
   "source": [
    "grouped = grouped.reset_index()"
   ]
  },
  {
   "cell_type": "code",
   "execution_count": 30,
   "metadata": {
    "collapsed": false,
    "deletable": true,
    "editable": true,
    "scrolled": true
   },
   "outputs": [],
   "source": [
    "grouped.rename(columns=lambda x: x.replace('primary_type', 'crime_counts'), inplace=True)"
   ]
  },
  {
   "cell_type": "code",
   "execution_count": 31,
   "metadata": {
    "collapsed": true,
    "deletable": true,
    "editable": true
   },
   "outputs": [],
   "source": [
    "weather_cols = ['obs_date','obs_hour','heat_index', 'precip_hrly']"
   ]
  },
  {
   "cell_type": "code",
   "execution_count": 32,
   "metadata": {
    "collapsed": true,
    "deletable": true,
    "editable": true
   },
   "outputs": [],
   "source": [
    "weather_final = weather.filter(weather_cols)"
   ]
  },
  {
   "cell_type": "code",
   "execution_count": 34,
   "metadata": {
    "collapsed": false,
    "deletable": true,
    "editable": true
   },
   "outputs": [],
   "source": [
    "weather_final.rename(columns= lambda x: x.replace('obs_', ''), inplace = True)"
   ]
  },
  {
   "cell_type": "code",
   "execution_count": 35,
   "metadata": {
    "collapsed": true,
    "deletable": true,
    "editable": true
   },
   "outputs": [],
   "source": [
    "joined = pd.merge(grouped, weather_final,  how='inner', left_on=['date','hour'], right_on = ['date', 'hour'])"
   ]
  },
  {
   "cell_type": "code",
   "execution_count": 38,
   "metadata": {
    "collapsed": true,
    "deletable": true,
    "editable": true
   },
   "outputs": [],
   "source": [
    "joined.to_csv('joined_data.csv')"
   ]
  },
  {
   "cell_type": "code",
   "execution_count": 67,
   "metadata": {
    "collapsed": false,
    "deletable": true,
    "editable": true
   },
   "outputs": [],
   "source": [
    "from io import BytesIO  \n",
    "import requests  \n",
    "import json  \n",
    "import pandas as pd\n",
    "\n",
    "def put_file(credentials, local_file_name):  \n",
    "    \"\"\"This functions returns a StringIO object containing\n",
    "    the file content from Bluemix Object Storage V3.\"\"\"\n",
    "    f = open(local_file_name,'r')\n",
    "    my_data = f.read()\n",
    "    url1 = ''.join(['https://identity.open.softlayer.com', '/v3/auth/tokens'])\n",
    "    data = {'auth': {'identity': {'methods': ['password'],\n",
    "            'password': {'user': {'name': credentials['username'],'domain': {'id': credentials['domain_id']},\n",
    "            'password': credentials['password']}}}}}\n",
    "    headers1 = {'Content-Type': 'application/json'}\n",
    "    resp1 = requests.post(url=url1, data=json.dumps(data), headers=headers1)\n",
    "    resp1_body = resp1.json()\n",
    "    for e1 in resp1_body['token']['catalog']:\n",
    "        if(e1['type']=='object-store'):\n",
    "            for e2 in e1['endpoints']:\n",
    "                        if(e2['interface']=='public'and e2['region']=='dallas'):\n",
    "                            url2 = ''.join([e2['url'],'/', credentials['container'], '/', local_file_name])\n",
    "    s_subject_token = resp1.headers['x-subject-token']\n",
    "    headers2 = {'X-Auth-Token': s_subject_token, 'accept': 'application/json'}\n",
    "    resp2 = requests.put(url=url2, headers=headers2, data = my_data )\n",
    "    print(resp2)"
   ]
  },
  {
   "cell_type": "markdown",
   "metadata": {
    "deletable": true,
    "editable": true
   },
   "source": [
    "## Modelling\n",
    "Linear regression to predict number of crimes in the area\n",
    "\n",
    "First model used police district dummies with weather data"
   ]
  },
  {
   "cell_type": "code",
   "execution_count": 41,
   "metadata": {
    "collapsed": true,
    "deletable": true,
    "editable": true
   },
   "outputs": [],
   "source": [
    "from sklearn.linear_model import LinearRegression\n",
    "from sklearn.cross_validation import train_test_split"
   ]
  },
  {
   "cell_type": "code",
   "execution_count": 73,
   "metadata": {
    "collapsed": false,
    "deletable": true,
    "editable": true
   },
   "outputs": [
    {
     "data": {
      "text/plain": [
       "0.02516381957771574"
      ]
     },
     "execution_count": 73,
     "metadata": {},
     "output_type": "execute_result"
    }
   ],
   "source": [
    "final_data = pd.get_dummies(joined, columns = ['district'], drop_first=True)\n",
    "\n",
    "y = final_data.crime_counts\n",
    "X = final_data.drop(['crime_counts', 'date', 'hour'], axis = 1)\n",
    "\n",
    "X_train, X_test, y_train, y_test = train_test_split(X, y, test_size = 0.25, random_state = 100)\n",
    "\n",
    "linreg = LinearRegression()\n",
    "\n",
    "model = linreg.fit(X_train, y_train)\n",
    "\n",
    "predictions = model.predict(X_test)\n",
    "\n",
    "model.score(X_test, y_test)"
   ]
  },
  {
   "cell_type": "markdown",
   "metadata": {
    "deletable": true,
    "editable": true
   },
   "source": [
    "Model 2: dropped police district info in hopes to increase R^2. It did not help."
   ]
  },
  {
   "cell_type": "code",
   "execution_count": 74,
   "metadata": {
    "collapsed": true,
    "deletable": true,
    "editable": true
   },
   "outputs": [],
   "source": [
    "y2 = joined['crime_counts']"
   ]
  },
  {
   "cell_type": "code",
   "execution_count": 80,
   "metadata": {
    "collapsed": false,
    "deletable": true,
    "editable": true
   },
   "outputs": [],
   "source": [
    "X2 = joined.drop(['crime_counts', 'date', 'hour', 'district'], axis = 1)"
   ]
  },
  {
   "cell_type": "code",
   "execution_count": 81,
   "metadata": {
    "collapsed": true,
    "deletable": true,
    "editable": true
   },
   "outputs": [],
   "source": [
    "X_train_2, X_test_2, y_train_2, y_test_2 = train_test_split(X2, y2, test_size = 0.25, random_state = 100)"
   ]
  },
  {
   "cell_type": "code",
   "execution_count": 82,
   "metadata": {
    "collapsed": true,
    "deletable": true,
    "editable": true
   },
   "outputs": [],
   "source": [
    "linreg2 = LinearRegression()\n",
    "model2 = linreg2.fit(X_train_2, y_train_2)\n"
   ]
  },
  {
   "cell_type": "code",
   "execution_count": 83,
   "metadata": {
    "collapsed": true,
    "deletable": true,
    "editable": true
   },
   "outputs": [],
   "source": [
    "predictions2 = model2.predict(X_test_2)"
   ]
  },
  {
   "cell_type": "code",
   "execution_count": 84,
   "metadata": {
    "collapsed": false,
    "deletable": true,
    "editable": true
   },
   "outputs": [
    {
     "data": {
      "text/plain": [
       "0.0019744613825671831"
      ]
     },
     "execution_count": 84,
     "metadata": {},
     "output_type": "execute_result"
    }
   ],
   "source": [
    "model2.score(X_test_2, y_test_2)"
   ]
  },
  {
   "cell_type": "code",
   "execution_count": 85,
   "metadata": {
    "collapsed": true,
    "deletable": true,
    "editable": true
   },
   "outputs": [],
   "source": [
    "model.score?"
   ]
  },
  {
   "cell_type": "markdown",
   "metadata": {
    "deletable": true,
    "editable": true
   },
   "source": [
    "Model 3: no districts, average crime_counts by hour."
   ]
  },
  {
   "cell_type": "code",
   "execution_count": 104,
   "metadata": {
    "collapsed": false,
    "deletable": true,
    "editable": true
   },
   "outputs": [],
   "source": [
    "data_3 = joined.drop('district', axis = 1)"
   ]
  },
  {
   "cell_type": "code",
   "execution_count": 94,
   "metadata": {
    "collapsed": false,
    "deletable": true,
    "editable": true
   },
   "outputs": [],
   "source": [
    "data_3 = data_3.groupby(['date', 'hour']).mean()"
   ]
  },
  {
   "cell_type": "code",
   "execution_count": 200,
   "metadata": {
    "collapsed": false,
    "deletable": true,
    "editable": true,
    "scrolled": false
   },
   "outputs": [],
   "source": [
    "data_3 = data_3.reset_index()"
   ]
  },
  {
   "cell_type": "code",
   "execution_count": 97,
   "metadata": {
    "collapsed": false,
    "deletable": true,
    "editable": true
   },
   "outputs": [],
   "source": [
    "y3 = data_3.crime_counts\n",
    "X3 = data_3.drop(['crime_counts'], axis = 1)"
   ]
  },
  {
   "cell_type": "code",
   "execution_count": 98,
   "metadata": {
    "collapsed": true,
    "deletable": true,
    "editable": true
   },
   "outputs": [],
   "source": [
    "X_train3, X_test3, y_train3, y_test3 = train_test_split(X3, y3, test_size = 0.25, random_state = 100)"
   ]
  },
  {
   "cell_type": "code",
   "execution_count": 99,
   "metadata": {
    "collapsed": true,
    "deletable": true,
    "editable": true
   },
   "outputs": [],
   "source": [
    "linreg3 = LinearRegression()\n",
    "model3 = linreg3.fit(X_train3, y_train3)"
   ]
  },
  {
   "cell_type": "code",
   "execution_count": 101,
   "metadata": {
    "collapsed": false,
    "deletable": true,
    "editable": true
   },
   "outputs": [],
   "source": [
    "pred3 = model3.predict(X_test3)"
   ]
  },
  {
   "cell_type": "code",
   "execution_count": 102,
   "metadata": {
    "collapsed": false,
    "deletable": true,
    "editable": true
   },
   "outputs": [
    {
     "data": {
      "text/plain": [
       "0.0068737833645068367"
      ]
     },
     "execution_count": 102,
     "metadata": {},
     "output_type": "execute_result"
    }
   ],
   "source": [
    "model3.score(X_test3, y_test3)"
   ]
  },
  {
   "cell_type": "markdown",
   "metadata": {
    "deletable": true,
    "editable": true
   },
   "source": [
    "Model 4: not counting date and time"
   ]
  },
  {
   "cell_type": "code",
   "execution_count": 105,
   "metadata": {
    "collapsed": true,
    "deletable": true,
    "editable": true
   },
   "outputs": [],
   "source": [
    "y4 = data_3.crime_counts\n",
    "X4 = data_3.drop(['crime_counts', 'date', 'hour'], axis = 1)\n",
    "X_train4, X_test4, y_train4, y_test4 = train_test_split(X4, y4, test_size = 0.25, random_state = 100)"
   ]
  },
  {
   "cell_type": "code",
   "execution_count": 106,
   "metadata": {
    "collapsed": true,
    "deletable": true,
    "editable": true
   },
   "outputs": [],
   "source": [
    "linreg4 = LinearRegression()\n",
    "model4 = linreg4.fit(X_train4, y_train4)"
   ]
  },
  {
   "cell_type": "code",
   "execution_count": 107,
   "metadata": {
    "collapsed": true,
    "deletable": true,
    "editable": true
   },
   "outputs": [],
   "source": [
    "pred4 = model4.predict(X_test4)"
   ]
  },
  {
   "cell_type": "code",
   "execution_count": 108,
   "metadata": {
    "collapsed": false,
    "deletable": true,
    "editable": true
   },
   "outputs": [
    {
     "data": {
      "text/plain": [
       "0.0019744613825671831"
      ]
     },
     "execution_count": 108,
     "metadata": {},
     "output_type": "execute_result"
    }
   ],
   "source": [
    "model4.score(X_test4, y_test4)"
   ]
  },
  {
   "cell_type": "markdown",
   "metadata": {
    "deletable": true,
    "editable": true
   },
   "source": [
    "Aggregated absolute number of crimes by day, average heat index, average hourly precipitation"
   ]
  },
  {
   "cell_type": "code",
   "execution_count": 158,
   "metadata": {
    "collapsed": true,
    "deletable": true,
    "editable": true
   },
   "outputs": [],
   "source": [
    "data_5 = joined.drop('district', axis = 1)"
   ]
  },
  {
   "cell_type": "code",
   "execution_count": 159,
   "metadata": {
    "collapsed": false,
    "deletable": true,
    "editable": true
   },
   "outputs": [],
   "source": [
    "data_5 = data_5.groupby('date').sum()"
   ]
  },
  {
   "cell_type": "code",
   "execution_count": 160,
   "metadata": {
    "collapsed": true,
    "deletable": true,
    "editable": true
   },
   "outputs": [],
   "source": [
    "data_5 = data_5.reset_index()"
   ]
  },
  {
   "cell_type": "code",
   "execution_count": 161,
   "metadata": {
    "collapsed": false,
    "deletable": true,
    "editable": true
   },
   "outputs": [],
   "source": [
    "data_5 = data_5.drop(['hour', 'heat_index'], axis = 1)"
   ]
  },
  {
   "cell_type": "code",
   "execution_count": 162,
   "metadata": {
    "collapsed": false,
    "deletable": true,
    "editable": true
   },
   "outputs": [],
   "source": [
    "data_5['heat_index'] = data_4['heat_index']\n",
    "data_5['precip_hrly'] = data_4['precip_hrly']"
   ]
  },
  {
   "cell_type": "code",
   "execution_count": 164,
   "metadata": {
    "collapsed": false,
    "deletable": true,
    "editable": true,
    "scrolled": true
   },
   "outputs": [],
   "source": [
    "y6 = data_5.crime_counts\n",
    "X6 = data_5.drop(['crime_counts','date'], axis = 1)"
   ]
  },
  {
   "cell_type": "code",
   "execution_count": 165,
   "metadata": {
    "collapsed": true,
    "deletable": true,
    "editable": true
   },
   "outputs": [],
   "source": [
    "X_train6, X_test6, y_train6, y_test6 = train_test_split(X6, y6, test_size = 0.25, random_state = 100)"
   ]
  },
  {
   "cell_type": "code",
   "execution_count": 166,
   "metadata": {
    "collapsed": false,
    "deletable": true,
    "editable": true
   },
   "outputs": [],
   "source": [
    "linreg6 = LinearRegression()\n"
   ]
  },
  {
   "cell_type": "code",
   "execution_count": 167,
   "metadata": {
    "collapsed": false,
    "deletable": true,
    "editable": true
   },
   "outputs": [],
   "source": [
    "model6 = linreg6.fit(X_train6, y_train6)"
   ]
  },
  {
   "cell_type": "code",
   "execution_count": 168,
   "metadata": {
    "collapsed": true,
    "deletable": true,
    "editable": true
   },
   "outputs": [],
   "source": [
    "pred6 = model6.predict(X_test6)"
   ]
  },
  {
   "cell_type": "code",
   "execution_count": 169,
   "metadata": {
    "collapsed": false,
    "deletable": true,
    "editable": true,
    "scrolled": true
   },
   "outputs": [
    {
     "data": {
      "text/plain": [
       "0.24687111248490679"
      ]
     },
     "execution_count": 169,
     "metadata": {},
     "output_type": "execute_result"
    }
   ],
   "source": [
    "model6.score(X_test6, y_test6)"
   ]
  },
  {
   "cell_type": "markdown",
   "metadata": {
    "deletable": true,
    "editable": true
   },
   "source": [
    "## Best result so far: \n",
    "### Aggregated average number of crimes by day"
   ]
  },
  {
   "cell_type": "code",
   "execution_count": 109,
   "metadata": {
    "collapsed": true,
    "deletable": true,
    "editable": true
   },
   "outputs": [],
   "source": [
    "data_4 = joined.drop('district', axis = 1)"
   ]
  },
  {
   "cell_type": "code",
   "execution_count": 111,
   "metadata": {
    "collapsed": false,
    "deletable": true,
    "editable": true
   },
   "outputs": [],
   "source": [
    "data_4 = data_4.groupby('date').mean()"
   ]
  },
  {
   "cell_type": "code",
   "execution_count": 114,
   "metadata": {
    "collapsed": false,
    "deletable": true,
    "editable": true
   },
   "outputs": [],
   "source": [
    "data_4 = data_4.drop('hour', axis = 1)"
   ]
  },
  {
   "cell_type": "code",
   "execution_count": 116,
   "metadata": {
    "collapsed": false,
    "deletable": true,
    "editable": true
   },
   "outputs": [],
   "source": [
    "data_4 = data_4.reset_index()"
   ]
  },
  {
   "cell_type": "code",
   "execution_count": 124,
   "metadata": {
    "collapsed": false,
    "deletable": true,
    "editable": true,
    "scrolled": true
   },
   "outputs": [],
   "source": [
    "y5 = data_4.crime_counts\n",
    "X5 = data_4.drop(['crime_counts','date'], axis = 1)"
   ]
  },
  {
   "cell_type": "code",
   "execution_count": 125,
   "metadata": {
    "collapsed": true,
    "deletable": true,
    "editable": true
   },
   "outputs": [],
   "source": [
    "X_train5, X_test5, y_train5, y_test5 = train_test_split(X5, y5, test_size = 0.25, random_state = 100)"
   ]
  },
  {
   "cell_type": "code",
   "execution_count": 126,
   "metadata": {
    "collapsed": false,
    "deletable": true,
    "editable": true
   },
   "outputs": [],
   "source": [
    "linreg5 = LinearRegression()\n"
   ]
  },
  {
   "cell_type": "code",
   "execution_count": 127,
   "metadata": {
    "collapsed": false,
    "deletable": true,
    "editable": true
   },
   "outputs": [],
   "source": [
    "model5 = linreg5.fit(X_train5, y_train5)"
   ]
  },
  {
   "cell_type": "code",
   "execution_count": 128,
   "metadata": {
    "collapsed": true,
    "deletable": true,
    "editable": true
   },
   "outputs": [],
   "source": [
    "pred5 = model5.predict(X_test5)"
   ]
  },
  {
   "cell_type": "code",
   "execution_count": 129,
   "metadata": {
    "collapsed": false,
    "deletable": true,
    "editable": true,
    "scrolled": false
   },
   "outputs": [
    {
     "data": {
      "text/plain": [
       "0.29826134913082802"
      ]
     },
     "execution_count": 129,
     "metadata": {},
     "output_type": "execute_result"
    }
   ],
   "source": [
    "model5.score(X_test5, y_test5)"
   ]
  },
  {
   "cell_type": "markdown",
   "metadata": {
    "deletable": true,
    "editable": true
   },
   "source": [
    "## Using more crimes that could be affected by weather"
   ]
  },
  {
   "cell_type": "code",
   "execution_count": 170,
   "metadata": {
    "collapsed": false,
    "deletable": true,
    "editable": true,
    "scrolled": true
   },
   "outputs": [
    {
     "data": {
      "text/plain": [
       "array(['NARCOTICS', 'THEFT', 'ASSAULT', 'BATTERY', 'ROBBERY',\n",
       "       'OTHER OFFENSE', 'CRIMINAL DAMAGE', 'DECEPTIVE PRACTICE',\n",
       "       'LIQUOR LAW VIOLATION', 'BURGLARY', 'WEAPONS VIOLATION',\n",
       "       'OFFENSE INVOLVING CHILDREN', 'SEX OFFENSE',\n",
       "       'PUBLIC PEACE VIOLATION', 'MOTOR VEHICLE THEFT',\n",
       "       'CRIMINAL TRESPASS', 'STALKING', 'CRIM SEXUAL ASSAULT',\n",
       "       'KIDNAPPING', 'HOMICIDE', 'INTERFERENCE WITH PUBLIC OFFICER',\n",
       "       'PROSTITUTION', 'GAMBLING', 'INTIMIDATION', 'ARSON', 'OBSCENITY',\n",
       "       'NON-CRIMINAL', 'PUBLIC INDECENCY', 'HUMAN TRAFFICKING',\n",
       "       'CONCEALED CARRY LICENSE VIOLATION', 'NON - CRIMINAL',\n",
       "       'NON-CRIMINAL (SUBJECT SPECIFIED)', 'OTHER NARCOTIC VIOLATION'], dtype=object)"
      ]
     },
     "execution_count": 170,
     "metadata": {},
     "output_type": "execute_result"
    }
   ],
   "source": [
    "chicago.primary_type.unique()"
   ]
  },
  {
   "cell_type": "code",
   "execution_count": null,
   "metadata": {
    "collapsed": true,
    "deletable": true,
    "editable": true
   },
   "outputs": [],
   "source": []
  },
  {
   "cell_type": "code",
   "execution_count": 180,
   "metadata": {
    "collapsed": true,
    "deletable": true,
    "editable": true
   },
   "outputs": [
    {
     "data": {
      "text/html": [
       "<div>\n",
       "<table border=\"1\" class=\"dataframe\">\n",
       "  <thead>\n",
       "    <tr style=\"text-align: right;\">\n",
       "      <th></th>\n",
       "      <th>ID</th>\n",
       "      <th>Case Number</th>\n",
       "      <th>Date</th>\n",
       "      <th>Block</th>\n",
       "      <th>IUCR</th>\n",
       "      <th>Primary Type</th>\n",
       "      <th>Description</th>\n",
       "      <th>Location Description</th>\n",
       "      <th>Arrest</th>\n",
       "      <th>Domestic</th>\n",
       "      <th>...</th>\n",
       "      <th>Ward</th>\n",
       "      <th>Community Area</th>\n",
       "      <th>FBI Code</th>\n",
       "      <th>X Coordinate</th>\n",
       "      <th>Y Coordinate</th>\n",
       "      <th>Year</th>\n",
       "      <th>Updated On</th>\n",
       "      <th>Latitude</th>\n",
       "      <th>Longitude</th>\n",
       "      <th>Location</th>\n",
       "    </tr>\n",
       "  </thead>\n",
       "  <tbody>\n",
       "    <tr>\n",
       "      <th>0</th>\n",
       "      <td>10508593</td>\n",
       "      <td>HZ250410</td>\n",
       "      <td>05/03/2016 09:00:00 PM</td>\n",
       "      <td>042XX W MADISON ST</td>\n",
       "      <td>1811</td>\n",
       "      <td>NARCOTICS</td>\n",
       "      <td>POSS: CANNABIS 30GMS OR LESS</td>\n",
       "      <td>SIDEWALK</td>\n",
       "      <td>True</td>\n",
       "      <td>False</td>\n",
       "      <td>...</td>\n",
       "      <td>28</td>\n",
       "      <td>26</td>\n",
       "      <td>18</td>\n",
       "      <td>1148220.0</td>\n",
       "      <td>1899677.0</td>\n",
       "      <td>2016</td>\n",
       "      <td>05/10/2016 03:56:50 PM</td>\n",
       "      <td>41.880658</td>\n",
       "      <td>-87.731212</td>\n",
       "      <td>(41.880658176, -87.731212135)</td>\n",
       "    </tr>\n",
       "    <tr>\n",
       "      <th>1</th>\n",
       "      <td>10508594</td>\n",
       "      <td>HZ250385</td>\n",
       "      <td>05/03/2016 09:35:00 PM</td>\n",
       "      <td>065XX S KEDVALE AVE</td>\n",
       "      <td>0810</td>\n",
       "      <td>THEFT</td>\n",
       "      <td>OVER $500</td>\n",
       "      <td>APARTMENT</td>\n",
       "      <td>False</td>\n",
       "      <td>True</td>\n",
       "      <td>...</td>\n",
       "      <td>13</td>\n",
       "      <td>65</td>\n",
       "      <td>06</td>\n",
       "      <td>1149830.0</td>\n",
       "      <td>1860872.0</td>\n",
       "      <td>2016</td>\n",
       "      <td>05/10/2016 03:56:50 PM</td>\n",
       "      <td>41.774141</td>\n",
       "      <td>-87.726307</td>\n",
       "      <td>(41.77414081, -87.726307093)</td>\n",
       "    </tr>\n",
       "    <tr>\n",
       "      <th>2</th>\n",
       "      <td>10508595</td>\n",
       "      <td>HZ250362</td>\n",
       "      <td>05/03/2016 02:45:00 PM</td>\n",
       "      <td>045XX S DAMEN AVE</td>\n",
       "      <td>0560</td>\n",
       "      <td>ASSAULT</td>\n",
       "      <td>SIMPLE</td>\n",
       "      <td>STREET</td>\n",
       "      <td>False</td>\n",
       "      <td>True</td>\n",
       "      <td>...</td>\n",
       "      <td>12</td>\n",
       "      <td>61</td>\n",
       "      <td>08A</td>\n",
       "      <td>1163662.0</td>\n",
       "      <td>1874660.0</td>\n",
       "      <td>2016</td>\n",
       "      <td>05/10/2016 03:56:50 PM</td>\n",
       "      <td>41.811698</td>\n",
       "      <td>-87.675214</td>\n",
       "      <td>(41.811697721, -87.675214316)</td>\n",
       "    </tr>\n",
       "    <tr>\n",
       "      <th>3</th>\n",
       "      <td>10508597</td>\n",
       "      <td>HZ250202</td>\n",
       "      <td>05/03/2016 06:42:00 PM</td>\n",
       "      <td>063XX S CLAREMONT AVE</td>\n",
       "      <td>0486</td>\n",
       "      <td>BATTERY</td>\n",
       "      <td>DOMESTIC BATTERY SIMPLE</td>\n",
       "      <td>SIDEWALK</td>\n",
       "      <td>False</td>\n",
       "      <td>True</td>\n",
       "      <td>...</td>\n",
       "      <td>15</td>\n",
       "      <td>66</td>\n",
       "      <td>08B</td>\n",
       "      <td>1161829.0</td>\n",
       "      <td>1862607.0</td>\n",
       "      <td>2016</td>\n",
       "      <td>05/10/2016 03:56:50 PM</td>\n",
       "      <td>41.778661</td>\n",
       "      <td>-87.682273</td>\n",
       "      <td>(41.778661058, -87.68227253)</td>\n",
       "    </tr>\n",
       "    <tr>\n",
       "      <th>4</th>\n",
       "      <td>10508598</td>\n",
       "      <td>HZ250298</td>\n",
       "      <td>05/03/2016 03:00:00 PM</td>\n",
       "      <td>070XX S INDIANA AVE</td>\n",
       "      <td>0320</td>\n",
       "      <td>ROBBERY</td>\n",
       "      <td>STRONGARM - NO WEAPON</td>\n",
       "      <td>SIDEWALK</td>\n",
       "      <td>False</td>\n",
       "      <td>False</td>\n",
       "      <td>...</td>\n",
       "      <td>6</td>\n",
       "      <td>69</td>\n",
       "      <td>03</td>\n",
       "      <td>1178808.0</td>\n",
       "      <td>1858478.0</td>\n",
       "      <td>2016</td>\n",
       "      <td>05/10/2016 03:56:50 PM</td>\n",
       "      <td>41.766961</td>\n",
       "      <td>-87.620152</td>\n",
       "      <td>(41.766961034, -87.620152116)</td>\n",
       "    </tr>\n",
       "  </tbody>\n",
       "</table>\n",
       "<p>5 rows × 22 columns</p>\n",
       "</div>"
      ],
      "text/plain": [
       "         ID Case Number                    Date                  Block  IUCR  \\\n",
       "0  10508593    HZ250410  05/03/2016 09:00:00 PM     042XX W MADISON ST  1811   \n",
       "1  10508594    HZ250385  05/03/2016 09:35:00 PM    065XX S KEDVALE AVE  0810   \n",
       "2  10508595    HZ250362  05/03/2016 02:45:00 PM      045XX S DAMEN AVE  0560   \n",
       "3  10508597    HZ250202  05/03/2016 06:42:00 PM  063XX S CLAREMONT AVE  0486   \n",
       "4  10508598    HZ250298  05/03/2016 03:00:00 PM    070XX S INDIANA AVE  0320   \n",
       "\n",
       "  Primary Type                   Description Location Description Arrest  \\\n",
       "0    NARCOTICS  POSS: CANNABIS 30GMS OR LESS             SIDEWALK   True   \n",
       "1        THEFT                     OVER $500            APARTMENT  False   \n",
       "2      ASSAULT                        SIMPLE               STREET  False   \n",
       "3      BATTERY       DOMESTIC BATTERY SIMPLE             SIDEWALK  False   \n",
       "4      ROBBERY         STRONGARM - NO WEAPON             SIDEWALK  False   \n",
       "\n",
       "  Domestic              ...                Ward  Community Area  FBI Code  \\\n",
       "0    False              ...                  28              26        18   \n",
       "1     True              ...                  13              65        06   \n",
       "2     True              ...                  12              61       08A   \n",
       "3     True              ...                  15              66       08B   \n",
       "4    False              ...                   6              69        03   \n",
       "\n",
       "   X Coordinate Y Coordinate  Year              Updated On   Latitude  \\\n",
       "0     1148220.0    1899677.0  2016  05/10/2016 03:56:50 PM  41.880658   \n",
       "1     1149830.0    1860872.0  2016  05/10/2016 03:56:50 PM  41.774141   \n",
       "2     1163662.0    1874660.0  2016  05/10/2016 03:56:50 PM  41.811698   \n",
       "3     1161829.0    1862607.0  2016  05/10/2016 03:56:50 PM  41.778661   \n",
       "4     1178808.0    1858478.0  2016  05/10/2016 03:56:50 PM  41.766961   \n",
       "\n",
       "   Longitude                       Location  \n",
       "0 -87.731212  (41.880658176, -87.731212135)  \n",
       "1 -87.726307   (41.77414081, -87.726307093)  \n",
       "2 -87.675214  (41.811697721, -87.675214316)  \n",
       "3 -87.682273   (41.778661058, -87.68227253)  \n",
       "4 -87.620152  (41.766961034, -87.620152116)  \n",
       "\n",
       "[5 rows x 22 columns]"
      ]
     },
     "execution_count": 180,
     "metadata": {},
     "output_type": "execute_result"
    }
   ],
   "source": [
    "# including more crimes that would depend on weather\n",
    "chicago2 = pd.read_csv(get_object_storage_file_with_credentials_f2807a6a3891460882043342cc4b184b('ChicagoCrimeData', 'Crimes_-_2016_to_present.csv'))\n"
   ]
  },
  {
   "cell_type": "code",
   "execution_count": 181,
   "metadata": {
    "collapsed": false,
    "deletable": true,
    "editable": true
   },
   "outputs": [],
   "source": [
    "include_values2 = ['ASSAULT'\n",
    ",'BATTERY'\n",
    ",'ROBBERY'\n",
    ",'SEX OFFENSE'\n",
    ",'HOMICIDE'\n",
    ",'CRIM SEXUAL ASSAULT'\n",
    ",'KIDNAPPING'\n",
    ",'ARSON'\n",
    ",'HUMAN TRAFFICKING'\n",
    ",'LIQUOR LAW VIOLATION'\n",
    ",'PUBLIC PEACE VIOLATION'\n",
    ",'PUBLIC INDECENCY']"
   ]
  },
  {
   "cell_type": "code",
   "execution_count": 184,
   "metadata": {
    "collapsed": true,
    "deletable": true,
    "editable": true
   },
   "outputs": [],
   "source": [
    "chicago2.rename(columns=lambda x: x.replace(\" \", '_'), inplace=True)"
   ]
  },
  {
   "cell_type": "code",
   "execution_count": 185,
   "metadata": {
    "collapsed": false,
    "deletable": true,
    "editable": true
   },
   "outputs": [],
   "source": [
    "chicago2.rename(columns=lambda x: x.lower(), inplace=True)"
   ]
  },
  {
   "cell_type": "code",
   "execution_count": 186,
   "metadata": {
    "collapsed": false,
    "deletable": true,
    "editable": true
   },
   "outputs": [],
   "source": [
    "chicago2['time'] = chicago2.date.apply(lambda x: x[12:])"
   ]
  },
  {
   "cell_type": "code",
   "execution_count": 187,
   "metadata": {
    "collapsed": false,
    "deletable": true,
    "editable": true
   },
   "outputs": [],
   "source": [
    "chicago2.date = pd.to_datetime(chicago2.date)"
   ]
  },
  {
   "cell_type": "code",
   "execution_count": 188,
   "metadata": {
    "collapsed": false,
    "deletable": true,
    "editable": true
   },
   "outputs": [],
   "source": [
    "chicago2['hour'] = chicago2.date.apply(lambda x: x.hour)"
   ]
  },
  {
   "cell_type": "code",
   "execution_count": 189,
   "metadata": {
    "collapsed": true,
    "deletable": true,
    "editable": true
   },
   "outputs": [],
   "source": [
    "chicago2['time'], chicago2.date = chicago2.date.apply(lambda x: x.time()), chicago2.date.apply(lambda x: x.date())"
   ]
  },
  {
   "cell_type": "code",
   "execution_count": 190,
   "metadata": {
    "collapsed": false,
    "deletable": true,
    "editable": true,
    "scrolled": false
   },
   "outputs": [],
   "source": [
    "chicago_mod2 = chicago2[chicago2['primary_type'].isin(include_values)].reset_index(drop=True)"
   ]
  },
  {
   "cell_type": "code",
   "execution_count": 192,
   "metadata": {
    "collapsed": false,
    "deletable": true,
    "editable": true
   },
   "outputs": [],
   "source": [
    "include_columns = ['date', 'hour', 'primary_type','district']"
   ]
  },
  {
   "cell_type": "code",
   "execution_count": 193,
   "metadata": {
    "collapsed": false,
    "deletable": true,
    "editable": true
   },
   "outputs": [],
   "source": [
    "chicago_final_2 = chicago_mod2.filter(include_columns)"
   ]
  },
  {
   "cell_type": "code",
   "execution_count": 194,
   "metadata": {
    "collapsed": false,
    "deletable": true,
    "editable": true,
    "scrolled": true
   },
   "outputs": [],
   "source": [
    "grouped2 = chicago_final_2.groupby(['date', 'hour', 'district']).count()"
   ]
  },
  {
   "cell_type": "code",
   "execution_count": 195,
   "metadata": {
    "collapsed": false,
    "deletable": true,
    "editable": true
   },
   "outputs": [],
   "source": [
    "grouped2 = grouped2.reset_index()"
   ]
  },
  {
   "cell_type": "code",
   "execution_count": 196,
   "metadata": {
    "collapsed": false,
    "deletable": true,
    "editable": true,
    "scrolled": true
   },
   "outputs": [],
   "source": [
    "grouped2.rename(columns=lambda x: x.replace('primary_type', 'crime_counts'), inplace=True)"
   ]
  },
  {
   "cell_type": "code",
   "execution_count": 198,
   "metadata": {
    "collapsed": true,
    "deletable": true,
    "editable": true
   },
   "outputs": [],
   "source": [
    "joined2 = pd.merge(grouped2, weather_final,  how='inner', left_on=['date','hour'], right_on = ['date', 'hour'])"
   ]
  },
  {
   "cell_type": "code",
   "execution_count": null,
   "metadata": {
    "collapsed": true,
    "deletable": true,
    "editable": true
   },
   "outputs": [],
   "source": []
  }
 ],
 "metadata": {
  "kernelspec": {
   "display_name": "Python 2",
   "language": "python",
   "name": "python2"
  },
  "language_info": {
   "codemirror_mode": {
    "name": "ipython",
    "version": 2
   },
   "file_extension": ".py",
   "mimetype": "text/x-python",
   "name": "python",
   "nbconvert_exporter": "python",
   "pygments_lexer": "ipython2",
   "version": "2.7.12"
  }
 },
 "nbformat": 4,
 "nbformat_minor": 0
}
